{
  "nbformat": 4,
  "nbformat_minor": 0,
  "metadata": {
    "colab": {
      "provenance": []
    },
    "kernelspec": {
      "name": "python3",
      "display_name": "Python 3"
    },
    "language_info": {
      "name": "python"
    }
  },
  "cells": [
    {
      "cell_type": "markdown",
      "source": [
        "## Overview\n",
        "\n",
        "This project demonstrates how to use the Gemini API to create embeddings,will use the Python client library to build a word embedding that allows you to compare search strings, or questions, to document contents.\n",
        "\n",
        "In this project, will use embeddings to perform document search over a set of documents to ask questions related to the documents."
      ],
      "metadata": {
        "id": "-eXvUBhF1y3n"
      }
    },
    {
      "cell_type": "code",
      "source": [
        "!pip install -U -q google-generativeai"
      ],
      "metadata": {
        "id": "lkFqPpLj18rE"
      },
      "execution_count": 152,
      "outputs": []
    },
    {
      "cell_type": "code",
      "source": [
        "import textwrap\n",
        "import google.generativeai as GenAi\n",
        "import google.ai.generativelanguage as glm\n",
        "import pandas as pd\n",
        "import numpy as np\n",
        "from google.colab import userdata\n",
        "\n",
        "from IPython.display import Markdown, display"
      ],
      "metadata": {
        "id": "EIw8c3Jf3yvU"
      },
      "execution_count": 153,
      "outputs": []
    },
    {
      "cell_type": "code",
      "source": [
        "GOOGLE_API_KEY=userdata.get('GOOGLE_API_KEY')\n",
        "GenAi.configure(api_key=GOOGLE_API_KEY)"
      ],
      "metadata": {
        "id": "tvyX7NSk4enb"
      },
      "execution_count": 154,
      "outputs": []
    },
    {
      "cell_type": "markdown",
      "source": [
        "## Embedding generation\n",
        "\n",
        "In this section, you will see how to generate embeddings for a piece of text using the embeddings from the Gemini API.\n",
        "\n",
        "See the [Embeddings quickstart](https://github.com/google-gemini/cookbook/blob/main/quickstarts/Embeddings.ipynb) to learn more about the `task_type` parameter used below."
      ],
      "metadata": {
        "id": "UAve_ztx6ChQ"
      }
    },
    {
      "cell_type": "code",
      "source": [
        "# Example 1\n",
        "text = \"SATHISH Mattapalli\"\n",
        "result = GenAi.embed_content(model=\"models/text-embedding-004\", content=text)\n",
        "\n",
        "# Print just a part of the embedding to keep the output manageable\n",
        "print(str(result['embedding'])[:50], '... TRIMMED]')"
      ],
      "metadata": {
        "colab": {
          "base_uri": "https://localhost:8080/",
          "height": 34
        },
        "id": "faJxtlN36DOp",
        "outputId": "5700cc98-2bf5-4b66-ed52-5dd6009cc489"
      },
      "execution_count": 155,
      "outputs": [
        {
          "output_type": "stream",
          "name": "stdout",
          "text": [
            "[-0.023678103, 0.04343279, -0.05387894, 0.00810668 ... TRIMMED]\n"
          ]
        }
      ]
    },
    {
      "cell_type": "code",
      "source": [
        "print(len(result['embedding']))"
      ],
      "metadata": {
        "colab": {
          "base_uri": "https://localhost:8080/"
        },
        "id": "NzAVHkHj6ide",
        "outputId": "6cca2d49-9cc8-40df-a031-7ba7f8b20200"
      },
      "execution_count": 156,
      "outputs": [
        {
          "output_type": "stream",
          "name": "stdout",
          "text": [
            "768\n"
          ]
        }
      ]
    },
    {
      "cell_type": "code",
      "source": [
        "# Example 2\n",
        "title = \"6 ways we supported learning and education in 2024\"\n",
        "sample_text = (\"Title: 6 ways we supported learning and education in 2024\"\n",
        "    \"\\n\"\n",
        "    \"Full article:\\n\"\n",
        "    \"\\n\"\n",
        "    \"Gemini API & Google AI Studio: An approachable way to explore and prototype with generative AI applications\")\n",
        "\n",
        "model = 'models/embedding-001'\n",
        "embedding = GenAi.embed_content(model=model,\n",
        "                                content='sample_text',\n",
        "                                task_type=\"retrieval_document\",\n",
        "                                title=title)\n",
        "\n",
        "print(embedding)"
      ],
      "metadata": {
        "colab": {
          "base_uri": "https://localhost:8080/",
          "height": 54
        },
        "id": "8kEqROT46um_",
        "outputId": "e6049ffd-7779-4d0e-8022-a9c2829b949f"
      },
      "execution_count": 157,
      "outputs": [
        {
          "output_type": "stream",
          "name": "stdout",
          "text": [
            "{'embedding': [0.058082152, -0.010528708, -0.03629449, 0.0521812, 0.05498597, 0.06341316, 0.013103872, -0.014023898, 0.03269887, 0.04185978, -0.029658034, 0.011816381, -0.042047273, -0.039411407, 0.030298395, -0.076788254, -0.011837379, 0.056390002, -0.011904153, 0.03627013, 0.007622999, 0.018235749, 0.0037318566, -0.0055210325, 0.015927318, -0.031068234, -0.008151011, -0.070511214, -0.018628987, 0.028235123, -0.05253229, 0.043766163, -0.02781425, 0.042436853, -0.021410724, -0.042646695, -0.02753972, -0.0008122271, -0.027216215, -0.02216579, -0.00889182, -0.072435215, -0.014347731, 0.017958324, 0.004720065, -0.049846135, 0.035029326, 0.013905076, -0.007294941, -0.060779214, 0.022042504, -0.0066578514, 0.08864284, -0.028215619, 0.003656741, -0.031895053, 0.025039444, -0.016132873, -0.014320613, -0.017309133, 0.018090209, 0.03398677, 0.0009894903, 0.030281445, -0.040673267, -0.03285413, -0.07414294, 0.0059097265, 0.05373042, -0.028807035, -0.011909862, -0.012380076, 0.053620517, 0.02819816, -0.01693581, -0.09430355, -0.011987222, 0.0417524, 0.027937196, 0.0046700845, 0.032230277, -0.01228793, -0.06913407, -0.044320047, -0.03887898, 0.032287683, -0.028670853, 0.017437994, -0.010463608, 0.022628412, 0.0004662436, 0.018035373, 0.020659944, -0.039619323, 0.01019042, 0.05511388, -0.054314934, 0.019671911, -0.0057844953, -0.020689428, 0.006212017, 0.00097103184, -0.0765659, 0.0010017421, 0.043513436, 0.016243352, 0.026176676, 0.065613106, 0.013061255, 0.053460557, -0.05882409, 0.01531981, -0.014610237, -0.046231743, 0.021787962, -0.06434487, 0.016004464, 0.06241409, 0.039862297, 0.007947836, 0.029236326, 0.04282895, 0.053753547, -0.01691086, 0.021733364, -0.0044712224, -0.011691574, 0.04351322, 0.034635115, 0.044946313, 0.031636104, -0.04422782, -0.0069792294, 0.020053461, 0.06684105, 0.02745447, 0.03423565, -0.014083424, 0.037913408, 0.004113456, -0.028409371, 0.060388576, -0.003567031, 0.06557758, -0.021001454, 0.016580416, -0.08267914, 0.05131934, 0.030615745, -0.036766537, -0.0045867767, 0.01378072, -0.07173049, 0.016343163, 0.09726967, 0.035691127, 0.0012583499, 0.06769493, -0.010058294, -0.013592433, 0.06630756, -0.0021867233, 0.011645682, 0.020770425, -0.0368976, -0.018963525, -0.03482841, -0.011612583, 0.0040560104, -0.006733545, 0.0058149653, 0.012211618, -0.050531894, -0.059819587, -0.035564627, -0.058078308, 0.015982077, 0.017335892, 0.016079055, 0.02593194, -0.04935455, -0.03707793, 0.0008375609, 0.0061241863, 0.02108398, -0.04546369, 0.07610854, -0.01912296, -0.061946657, 0.03549489, -0.04849807, 0.0052436427, -0.037429027, -0.02263761, -0.0058961795, 0.03914584, 0.01863114, -0.009840632, 0.028179824, -0.0009360243, -0.0027167639, 0.0629741, -0.023446156, -0.031905267, -0.014364788, -0.029820465, 0.102251485, -0.00787638, -0.051123396, 0.01991775, -0.024094608, 0.048096612, -0.007274846, 0.0037233382, 0.0011813117, 0.009239748, 0.004777511, 0.07691707, -0.025528098, 0.0066028438, -0.0070258137, 0.039368454, -0.053714443, -0.01618288, -0.04950425, 0.041011598, -0.0341717, 0.028422965, -0.00023526566, -0.02489433, 0.0065098233, 0.030127274, 0.05968352, -0.010106435, 0.049237095, -0.026966043, 0.020160073, 0.0070429584, -0.0042150947, -0.036824506, -0.021295616, 0.022082722, -0.0058735977, 0.009930909, -0.06009533, -0.042575374, -0.072208084, 0.015805017, 0.008605013, 0.029190265, -0.010054807, -0.024929866, 0.038732, -0.008146585, -0.06923825, 0.04633338, -0.05558345, 0.011266874, -0.015703192, 0.01448946, 0.041273747, -0.024009911, 0.0047125546, -0.052223656, 0.0109520415, 0.017764881, -0.013550588, -0.06840195, -0.057607736, 0.019796068, -0.01243394, -0.023784395, 0.012470396, -0.013575293, -0.024184117, 0.042547513, 0.012825725, 0.012993737, 0.023710081, -0.056003932, 0.010397433, 0.011199658, 0.019061046, -0.034817986, -0.011907804, 0.024244515, -0.061543275, -0.004034799, 0.0016748908, -0.018608358, -0.017210342, 0.0020866597, -0.020606782, -0.036531277, -0.04195292, 0.00060044165, -0.0031204477, 0.049986456, 0.037789203, 0.0056238896, 0.01104342, -0.0427797, -0.0015496106, -0.08797907, 0.03279771, 0.0330189, -0.004308977, -0.05160592, 0.02139138, 0.017907912, 0.024900045, -0.017859707, -0.055949524, -0.0037205792, 0.047617864, 0.03766485, -0.028543608, 0.038393967, -0.029685602, 0.04723844, 0.03934899, 0.049038887, -0.00040036792, 0.017857732, 0.008314007, 0.05684309, 0.006346169, 0.0018130596, -0.026513772, 0.014285669, -0.00023473207, -0.023836875, -0.024442274, 0.007611204, -0.025638208, -0.014011835, -0.08069897, -0.0043846015, -0.041518554, -0.007956348, 0.032921746, 0.013695442, -0.02386241, -0.042801052, 0.050501354, 0.0003057437, -0.04887784, 0.028100265, 0.037098963, 0.008805661, -0.03425873, 0.10188738, -0.005879829, 0.012841578, -0.014471355, -0.027367447, 0.019053131, 0.002493959, 0.085636385, 0.00095660705, -0.061677348, 0.048891276, -0.035673577, -0.042802878, 0.0351761, -0.0041614403, -0.031273928, 0.016985407, -0.01970229, 0.019033458, 0.026497874, -0.024059623, 0.030519867, -0.030992921, 0.0021410717, -0.023811765, -0.012514286, -0.04115206, 0.054018192, -0.004498222, -0.008220268, -0.007935937, 0.024680749, 0.0118308235, -0.003782631, -0.03762184, 0.008907357, -0.00475063, 0.0109814, 0.021974834, -0.04439048, 0.009300352, 0.037547234, -0.019028885, 0.005308888, -0.015446342, 0.0069537973, -0.05693066, 0.021581618, 0.0023534864, -0.009325381, -0.017794425, -0.005336802, -0.0020484992, -0.024994401, -0.007826588, -0.048991214, -0.023752088, -0.040599637, -0.005245723, -0.006980046, -0.0048269792, 0.022767052, -0.050179087, -0.032940276, -0.012175176, 0.014318938, -0.0044133496, 0.049925208, 0.009854606, -0.022254655, -0.055632222, 0.0052437377, -0.019867433, -0.04828983, 0.007988274, 0.05422183, 0.00389229, 0.027785346, 0.024167674, 0.06055998, 0.015942706, -0.0057463874, -0.0118357055, 0.029931175, -0.03020864, 0.03630803, 0.025416937, -0.032326803, -0.04282268, 0.028329164, 0.013438956, -0.019045416, 0.0084910765, -0.010090267, -0.028707374, -0.02839673, -0.004214434, 0.016578317, -0.07535999, 0.0054067457, -0.07479999, -0.07996643, -0.063492626, 0.015991734, -0.034288704, -0.035727464, 0.004791432, -0.022701351, 0.004142248, -0.0038393512, 0.056891996, -0.021889986, -0.054646883, 0.05576661, 0.006322523, 0.022803416, -0.006651767, 0.07432258, 0.045037296, -0.064155385, -0.0496315, 0.039898768, -0.00818974, -0.077001855, -0.047101196, -0.066113144, 0.022765545, -0.047787037, -0.032318637, -0.002812456, -0.02077237, -0.026986826, 0.0012188588, -0.024760926, -0.021266552, -0.0018699849, 0.021722479, -0.022452239, 0.073654786, 0.018686041, 0.0048098764, -0.02050139, -0.0639527, 0.0076775504, 0.007549031, -0.020969931, 0.032024708, 0.054499112, 0.04668121, -0.009380948, 0.037979413, -0.010654227, -0.029071053, 0.09155278, -0.07044084, 0.032114446, 0.05460869, 0.011684003, -0.00032396938, 0.00742829, 0.026462734, 0.02877242, 0.002188039, 0.04620876, -0.060287934, 0.0097376015, -0.025638388, 0.004193347, -0.045278456, 0.029908484, -0.01795494, -0.07315744, -0.020323789, -0.0082406495, -0.04936426, -0.017709063, 0.041914493, -0.016728045, 0.0021935953, -0.027648654, 0.039032895, -0.04512395, -0.019389937, 0.0031721336, 0.0012842615, 0.023780912, 0.009632045, 0.009406989, 0.012356008, 0.018424092, -0.065628685, 0.03447734, 0.06409165, -0.008092057, 0.007818285, 0.006368179, -0.06711645, 0.014369164, -0.031610526, -0.025394008, -0.008656386, 0.033741612, 0.013489342, 0.038804263, -0.01022945, 0.0075035496, -0.0044171195, 0.016547827, -0.011476728, 0.02117874, 0.036196217, 0.0037040077, -0.0169192, 0.062082388, 0.0071190097, -0.030797683, -0.042606402, 0.037837658, -0.037266094, -0.031192342, 0.007407696, 0.0225474, -0.010201877, 0.04574102, 0.006924136, -0.056104563, -0.014642147, -0.018620634, -0.021579027, 0.08045225, 0.03774834, -0.0037320969, 0.11116537, -0.011316149, -0.039731126, 0.049585585, 0.04688311, 0.018026331, 0.018164692, -0.02958983, 0.0053756842, -0.062386442, -0.017996427, 0.02226885, 0.008684907, 0.046526887, -0.03836322, -0.016872622, -0.014625465, 0.00010999049, -0.07365185, 0.067483574, 0.0037107398, 0.03491029, 0.06478866, 0.018643763, 0.0036199999, 0.0054273824, 0.05201479, -0.044917244, -0.064443454, -0.0020875572, -0.053912442, -0.02891727, -0.03155976, 0.024708781, 0.061331663, -0.053498905, -0.004132345, -0.01794072, 0.0019642469, 0.05475816, -0.024653522, 0.02568963, -0.030298084, -0.08871658, -0.0043416116, 0.09105691, 0.07144, 0.05475409, 0.07372379, 0.0061855325, -0.01409277, -0.015864097, 0.011767314, -0.03412191, -0.012137755, -0.003345945, -0.0016505596, -0.096388236, 0.009334324, -0.006275648, 0.03137707, 0.034413405, 0.0832469, 0.023484131, -0.046361346, -0.07796498, -0.0032496178, 0.0016197095, -0.023990646, 0.046512462, -0.027220841, 0.057561193, 0.014922798, 0.00066061574, -0.00297301, 0.04445956, -0.014040655, 0.0085864635, 0.0028583105, 0.013738037, -0.0003476399, -0.028177189, 0.0062768953, -0.06805133, -0.08124598, -0.022933027, 0.010863116, -0.07327771, 0.03331043, 0.085357554, 0.026268942, 0.040536944, 0.0019138777, 0.02261503, 0.0633812, 0.024380704, 0.011507119, -0.044477556, -0.010157845, -0.00813491, -0.00825382, -0.005897388, 0.030214248, 0.051366378, 0.0042244643, -0.040067986, -0.02768854, -0.0009086076, -0.040725414, -0.030096084, 0.013270352, 0.069635004, 0.012810867, -0.015786951, -0.030691007, -0.018902004, 0.033619512, -0.021949617, -0.027919376, 0.015557628, 0.037950102, -0.0053185336, -0.018464113, 0.027724767, 0.06189964, 0.02180033, 0.051278166, 0.021806866, -0.04789763, -0.0080542, 0.011276838, -0.017742569, -0.03241091, 0.0064937584, 0.027007436, 0.014707119, 0.064554386, -0.003363181, 0.011626819, 0.029647717, -0.0553714, -0.02367339, 0.09602422, -0.04462351, -0.009071468, -0.04172299, 0.017156169, 0.046579745, -0.03414541, 0.062285684, -0.04659055, -0.041401736, 0.06950272, -0.00090236485, 0.0048949705, -0.003599709, -0.053452495, -0.07829499, -0.038008597, 0.015427546, 0.070629396, -0.029869298, -0.052498396, -0.0020267034, -0.015111786, 0.039017662, -0.03604421, -0.046723094, -0.006771232, 0.016242294, 0.017537849, 0.063409396, -0.01225991, -0.0075900652, -0.017849552, 0.013909519, -0.00129455, 0.0016794824, -0.009430692, -0.029930796, 0.011952409, 0.047997314, 0.03203925, -0.023681542, 0.02949511]}\n"
          ]
        }
      ]
    },
    {
      "cell_type": "code",
      "source": [
        "print(len(embedding['embedding']))"
      ],
      "metadata": {
        "colab": {
          "base_uri": "https://localhost:8080/"
        },
        "id": "Xlz5nfcN8mp4",
        "outputId": "e2500abf-7e92-47e4-cac7-273d77f613d5"
      },
      "execution_count": 158,
      "outputs": [
        {
          "output_type": "stream",
          "name": "stdout",
          "text": [
            "768\n"
          ]
        }
      ]
    },
    {
      "cell_type": "markdown",
      "source": [
        "# Building an embeddings database\n",
        "\n",
        "Here are four sample text to use to build the embeddings database, we will use Gemini API to create embeddings of each of the documents."
      ],
      "metadata": {
        "id": "Mhz6W1Hz-1PX"
      }
    },
    {
      "cell_type": "code",
      "source": [
        "DOCUMENT_A = {\n",
        "    \"title\": \"Evolution of the Internet\",\n",
        "    \"content\": \"The internet's evolution began in the 1960s as a U.S. military project aimed at creating a resilient communication network. Its original purpose was to ensure functionality even in the face of partial infrastructure failures. Over time, this network grew into the modern internet, connecting billions of users globally via the Internet Protocol Suite (TCP/IP). A significant leap forward came in the early 1990s with the advent of the World Wide Web by Tim Berners-Lee, which revolutionized public access and usability.\"\n",
        "}\n",
        "\n",
        "DOCUMENT_B = {\n",
        "    \"title\": \"Impacts of Global Warming\",\n",
        "    \"content\": \"Global warming represents a significant shift in Earth’s climate, largely driven by human activities like burning fossil fuels, which increase atmospheric greenhouse gases. This phenomenon leads to intensified weather patterns, including more frequent hurricanes, prolonged droughts, and devastating floods. Furthermore, it accelerates polar ice melting and rising sea levels, endangering coastal regions. The consequences extend to agriculture, water availability, and biodiversity, highlighting the urgent need for mitigation efforts.\"\n",
        "}\n",
        "\n",
        "DOCUMENT_C = {\n",
        "    \"title\": \"Advances in Green Energy\",\n",
        "    \"content\": \"Recent progress in green energy technologies underscores the global push towards sustainable power solutions. Solar technology has become increasingly efficient and cost-effective, with innovations like advanced photovoltaic cells making solar energy more accessible. Wind energy has also seen remarkable improvements, with cutting-edge turbines generating power more consistently and in greater quantities. These innovations are pivotal in reducing dependence on fossil fuels and combatting climate change through renewable energy adoption.\"\n",
        "}\n",
        "\n",
        "DOCUMENT_D = {\n",
        "    \"title\": \"Artificial Intelligence in Healthcare\",\n",
        "    \"content\": \"Artificial Intelligence (AI) is transforming healthcare by enhancing diagnostic accuracy, personalizing treatments, and streamlining administrative tasks. AI algorithms are capable of analyzing vast datasets to identify patterns and predict patient outcomes, leading to earlier interventions and better care. Examples include AI-driven tools for medical imaging analysis and virtual assistants that improve patient interaction. This technology is not only improving efficiency but also expanding access to high-quality healthcare worldwide.\"\n",
        "}\n",
        "\n",
        "documents = [DOCUMENT_A, DOCUMENT_B, DOCUMENT_C, DOCUMENT_D]\n"
      ],
      "metadata": {
        "id": "ZiZq6bjl_Ov9"
      },
      "execution_count": 159,
      "outputs": []
    },
    {
      "cell_type": "code",
      "source": [
        "df = pd.DataFrame(documents)\n",
        "df.columns = ['Title', 'Content']\n",
        "df"
      ],
      "metadata": {
        "colab": {
          "base_uri": "https://localhost:8080/",
          "height": 174
        },
        "id": "8lWAUSBf_w5O",
        "outputId": "1770c9fb-1c4e-4fbd-c157-1499b26d5a77"
      },
      "execution_count": 160,
      "outputs": [
        {
          "output_type": "execute_result",
          "data": {
            "text/plain": [
              "                                   Title  \\\n",
              "0              Evolution of the Internet   \n",
              "1              Impacts of Global Warming   \n",
              "2               Advances in Green Energy   \n",
              "3  Artificial Intelligence in Healthcare   \n",
              "\n",
              "                                             Content  \n",
              "0  The internet's evolution began in the 1960s as...  \n",
              "1  Global warming represents a significant shift ...  \n",
              "2  Recent progress in green energy technologies u...  \n",
              "3  Artificial Intelligence (AI) is transforming h...  "
            ],
            "text/html": [
              "\n",
              "  <div id=\"df-4d153816-0445-4092-a988-697d3fd9c166\" class=\"colab-df-container\">\n",
              "    <div>\n",
              "<style scoped>\n",
              "    .dataframe tbody tr th:only-of-type {\n",
              "        vertical-align: middle;\n",
              "    }\n",
              "\n",
              "    .dataframe tbody tr th {\n",
              "        vertical-align: top;\n",
              "    }\n",
              "\n",
              "    .dataframe thead th {\n",
              "        text-align: right;\n",
              "    }\n",
              "</style>\n",
              "<table border=\"1\" class=\"dataframe\">\n",
              "  <thead>\n",
              "    <tr style=\"text-align: right;\">\n",
              "      <th></th>\n",
              "      <th>Title</th>\n",
              "      <th>Content</th>\n",
              "    </tr>\n",
              "  </thead>\n",
              "  <tbody>\n",
              "    <tr>\n",
              "      <th>0</th>\n",
              "      <td>Evolution of the Internet</td>\n",
              "      <td>The internet's evolution began in the 1960s as...</td>\n",
              "    </tr>\n",
              "    <tr>\n",
              "      <th>1</th>\n",
              "      <td>Impacts of Global Warming</td>\n",
              "      <td>Global warming represents a significant shift ...</td>\n",
              "    </tr>\n",
              "    <tr>\n",
              "      <th>2</th>\n",
              "      <td>Advances in Green Energy</td>\n",
              "      <td>Recent progress in green energy technologies u...</td>\n",
              "    </tr>\n",
              "    <tr>\n",
              "      <th>3</th>\n",
              "      <td>Artificial Intelligence in Healthcare</td>\n",
              "      <td>Artificial Intelligence (AI) is transforming h...</td>\n",
              "    </tr>\n",
              "  </tbody>\n",
              "</table>\n",
              "</div>\n",
              "    <div class=\"colab-df-buttons\">\n",
              "\n",
              "  <div class=\"colab-df-container\">\n",
              "    <button class=\"colab-df-convert\" onclick=\"convertToInteractive('df-4d153816-0445-4092-a988-697d3fd9c166')\"\n",
              "            title=\"Convert this dataframe to an interactive table.\"\n",
              "            style=\"display:none;\">\n",
              "\n",
              "  <svg xmlns=\"http://www.w3.org/2000/svg\" height=\"24px\" viewBox=\"0 -960 960 960\">\n",
              "    <path d=\"M120-120v-720h720v720H120Zm60-500h600v-160H180v160Zm220 220h160v-160H400v160Zm0 220h160v-160H400v160ZM180-400h160v-160H180v160Zm440 0h160v-160H620v160ZM180-180h160v-160H180v160Zm440 0h160v-160H620v160Z\"/>\n",
              "  </svg>\n",
              "    </button>\n",
              "\n",
              "  <style>\n",
              "    .colab-df-container {\n",
              "      display:flex;\n",
              "      gap: 12px;\n",
              "    }\n",
              "\n",
              "    .colab-df-convert {\n",
              "      background-color: #E8F0FE;\n",
              "      border: none;\n",
              "      border-radius: 50%;\n",
              "      cursor: pointer;\n",
              "      display: none;\n",
              "      fill: #1967D2;\n",
              "      height: 32px;\n",
              "      padding: 0 0 0 0;\n",
              "      width: 32px;\n",
              "    }\n",
              "\n",
              "    .colab-df-convert:hover {\n",
              "      background-color: #E2EBFA;\n",
              "      box-shadow: 0px 1px 2px rgba(60, 64, 67, 0.3), 0px 1px 3px 1px rgba(60, 64, 67, 0.15);\n",
              "      fill: #174EA6;\n",
              "    }\n",
              "\n",
              "    .colab-df-buttons div {\n",
              "      margin-bottom: 4px;\n",
              "    }\n",
              "\n",
              "    [theme=dark] .colab-df-convert {\n",
              "      background-color: #3B4455;\n",
              "      fill: #D2E3FC;\n",
              "    }\n",
              "\n",
              "    [theme=dark] .colab-df-convert:hover {\n",
              "      background-color: #434B5C;\n",
              "      box-shadow: 0px 1px 3px 1px rgba(0, 0, 0, 0.15);\n",
              "      filter: drop-shadow(0px 1px 2px rgba(0, 0, 0, 0.3));\n",
              "      fill: #FFFFFF;\n",
              "    }\n",
              "  </style>\n",
              "\n",
              "    <script>\n",
              "      const buttonEl =\n",
              "        document.querySelector('#df-4d153816-0445-4092-a988-697d3fd9c166 button.colab-df-convert');\n",
              "      buttonEl.style.display =\n",
              "        google.colab.kernel.accessAllowed ? 'block' : 'none';\n",
              "\n",
              "      async function convertToInteractive(key) {\n",
              "        const element = document.querySelector('#df-4d153816-0445-4092-a988-697d3fd9c166');\n",
              "        const dataTable =\n",
              "          await google.colab.kernel.invokeFunction('convertToInteractive',\n",
              "                                                    [key], {});\n",
              "        if (!dataTable) return;\n",
              "\n",
              "        const docLinkHtml = 'Like what you see? Visit the ' +\n",
              "          '<a target=\"_blank\" href=https://colab.research.google.com/notebooks/data_table.ipynb>data table notebook</a>'\n",
              "          + ' to learn more about interactive tables.';\n",
              "        element.innerHTML = '';\n",
              "        dataTable['output_type'] = 'display_data';\n",
              "        await google.colab.output.renderOutput(dataTable, element);\n",
              "        const docLink = document.createElement('div');\n",
              "        docLink.innerHTML = docLinkHtml;\n",
              "        element.appendChild(docLink);\n",
              "      }\n",
              "    </script>\n",
              "  </div>\n",
              "\n",
              "\n",
              "<div id=\"df-5a819808-f8db-48ac-9a6d-1481429ef598\">\n",
              "  <button class=\"colab-df-quickchart\" onclick=\"quickchart('df-5a819808-f8db-48ac-9a6d-1481429ef598')\"\n",
              "            title=\"Suggest charts\"\n",
              "            style=\"display:none;\">\n",
              "\n",
              "<svg xmlns=\"http://www.w3.org/2000/svg\" height=\"24px\"viewBox=\"0 0 24 24\"\n",
              "     width=\"24px\">\n",
              "    <g>\n",
              "        <path d=\"M19 3H5c-1.1 0-2 .9-2 2v14c0 1.1.9 2 2 2h14c1.1 0 2-.9 2-2V5c0-1.1-.9-2-2-2zM9 17H7v-7h2v7zm4 0h-2V7h2v10zm4 0h-2v-4h2v4z\"/>\n",
              "    </g>\n",
              "</svg>\n",
              "  </button>\n",
              "\n",
              "<style>\n",
              "  .colab-df-quickchart {\n",
              "      --bg-color: #E8F0FE;\n",
              "      --fill-color: #1967D2;\n",
              "      --hover-bg-color: #E2EBFA;\n",
              "      --hover-fill-color: #174EA6;\n",
              "      --disabled-fill-color: #AAA;\n",
              "      --disabled-bg-color: #DDD;\n",
              "  }\n",
              "\n",
              "  [theme=dark] .colab-df-quickchart {\n",
              "      --bg-color: #3B4455;\n",
              "      --fill-color: #D2E3FC;\n",
              "      --hover-bg-color: #434B5C;\n",
              "      --hover-fill-color: #FFFFFF;\n",
              "      --disabled-bg-color: #3B4455;\n",
              "      --disabled-fill-color: #666;\n",
              "  }\n",
              "\n",
              "  .colab-df-quickchart {\n",
              "    background-color: var(--bg-color);\n",
              "    border: none;\n",
              "    border-radius: 50%;\n",
              "    cursor: pointer;\n",
              "    display: none;\n",
              "    fill: var(--fill-color);\n",
              "    height: 32px;\n",
              "    padding: 0;\n",
              "    width: 32px;\n",
              "  }\n",
              "\n",
              "  .colab-df-quickchart:hover {\n",
              "    background-color: var(--hover-bg-color);\n",
              "    box-shadow: 0 1px 2px rgba(60, 64, 67, 0.3), 0 1px 3px 1px rgba(60, 64, 67, 0.15);\n",
              "    fill: var(--button-hover-fill-color);\n",
              "  }\n",
              "\n",
              "  .colab-df-quickchart-complete:disabled,\n",
              "  .colab-df-quickchart-complete:disabled:hover {\n",
              "    background-color: var(--disabled-bg-color);\n",
              "    fill: var(--disabled-fill-color);\n",
              "    box-shadow: none;\n",
              "  }\n",
              "\n",
              "  .colab-df-spinner {\n",
              "    border: 2px solid var(--fill-color);\n",
              "    border-color: transparent;\n",
              "    border-bottom-color: var(--fill-color);\n",
              "    animation:\n",
              "      spin 1s steps(1) infinite;\n",
              "  }\n",
              "\n",
              "  @keyframes spin {\n",
              "    0% {\n",
              "      border-color: transparent;\n",
              "      border-bottom-color: var(--fill-color);\n",
              "      border-left-color: var(--fill-color);\n",
              "    }\n",
              "    20% {\n",
              "      border-color: transparent;\n",
              "      border-left-color: var(--fill-color);\n",
              "      border-top-color: var(--fill-color);\n",
              "    }\n",
              "    30% {\n",
              "      border-color: transparent;\n",
              "      border-left-color: var(--fill-color);\n",
              "      border-top-color: var(--fill-color);\n",
              "      border-right-color: var(--fill-color);\n",
              "    }\n",
              "    40% {\n",
              "      border-color: transparent;\n",
              "      border-right-color: var(--fill-color);\n",
              "      border-top-color: var(--fill-color);\n",
              "    }\n",
              "    60% {\n",
              "      border-color: transparent;\n",
              "      border-right-color: var(--fill-color);\n",
              "    }\n",
              "    80% {\n",
              "      border-color: transparent;\n",
              "      border-right-color: var(--fill-color);\n",
              "      border-bottom-color: var(--fill-color);\n",
              "    }\n",
              "    90% {\n",
              "      border-color: transparent;\n",
              "      border-bottom-color: var(--fill-color);\n",
              "    }\n",
              "  }\n",
              "</style>\n",
              "\n",
              "  <script>\n",
              "    async function quickchart(key) {\n",
              "      const quickchartButtonEl =\n",
              "        document.querySelector('#' + key + ' button');\n",
              "      quickchartButtonEl.disabled = true;  // To prevent multiple clicks.\n",
              "      quickchartButtonEl.classList.add('colab-df-spinner');\n",
              "      try {\n",
              "        const charts = await google.colab.kernel.invokeFunction(\n",
              "            'suggestCharts', [key], {});\n",
              "      } catch (error) {\n",
              "        console.error('Error during call to suggestCharts:', error);\n",
              "      }\n",
              "      quickchartButtonEl.classList.remove('colab-df-spinner');\n",
              "      quickchartButtonEl.classList.add('colab-df-quickchart-complete');\n",
              "    }\n",
              "    (() => {\n",
              "      let quickchartButtonEl =\n",
              "        document.querySelector('#df-5a819808-f8db-48ac-9a6d-1481429ef598 button');\n",
              "      quickchartButtonEl.style.display =\n",
              "        google.colab.kernel.accessAllowed ? 'block' : 'none';\n",
              "    })();\n",
              "  </script>\n",
              "</div>\n",
              "\n",
              "  <div id=\"id_0ea9d524-474a-4810-b7ac-c5e583539c43\">\n",
              "    <style>\n",
              "      .colab-df-generate {\n",
              "        background-color: #E8F0FE;\n",
              "        border: none;\n",
              "        border-radius: 50%;\n",
              "        cursor: pointer;\n",
              "        display: none;\n",
              "        fill: #1967D2;\n",
              "        height: 32px;\n",
              "        padding: 0 0 0 0;\n",
              "        width: 32px;\n",
              "      }\n",
              "\n",
              "      .colab-df-generate:hover {\n",
              "        background-color: #E2EBFA;\n",
              "        box-shadow: 0px 1px 2px rgba(60, 64, 67, 0.3), 0px 1px 3px 1px rgba(60, 64, 67, 0.15);\n",
              "        fill: #174EA6;\n",
              "      }\n",
              "\n",
              "      [theme=dark] .colab-df-generate {\n",
              "        background-color: #3B4455;\n",
              "        fill: #D2E3FC;\n",
              "      }\n",
              "\n",
              "      [theme=dark] .colab-df-generate:hover {\n",
              "        background-color: #434B5C;\n",
              "        box-shadow: 0px 1px 3px 1px rgba(0, 0, 0, 0.15);\n",
              "        filter: drop-shadow(0px 1px 2px rgba(0, 0, 0, 0.3));\n",
              "        fill: #FFFFFF;\n",
              "      }\n",
              "    </style>\n",
              "    <button class=\"colab-df-generate\" onclick=\"generateWithVariable('df')\"\n",
              "            title=\"Generate code using this dataframe.\"\n",
              "            style=\"display:none;\">\n",
              "\n",
              "  <svg xmlns=\"http://www.w3.org/2000/svg\" height=\"24px\"viewBox=\"0 0 24 24\"\n",
              "       width=\"24px\">\n",
              "    <path d=\"M7,19H8.4L18.45,9,17,7.55,7,17.6ZM5,21V16.75L18.45,3.32a2,2,0,0,1,2.83,0l1.4,1.43a1.91,1.91,0,0,1,.58,1.4,1.91,1.91,0,0,1-.58,1.4L9.25,21ZM18.45,9,17,7.55Zm-12,3A5.31,5.31,0,0,0,4.9,8.1,5.31,5.31,0,0,0,1,6.5,5.31,5.31,0,0,0,4.9,4.9,5.31,5.31,0,0,0,6.5,1,5.31,5.31,0,0,0,8.1,4.9,5.31,5.31,0,0,0,12,6.5,5.46,5.46,0,0,0,6.5,12Z\"/>\n",
              "  </svg>\n",
              "    </button>\n",
              "    <script>\n",
              "      (() => {\n",
              "      const buttonEl =\n",
              "        document.querySelector('#id_0ea9d524-474a-4810-b7ac-c5e583539c43 button.colab-df-generate');\n",
              "      buttonEl.style.display =\n",
              "        google.colab.kernel.accessAllowed ? 'block' : 'none';\n",
              "\n",
              "      buttonEl.onclick = () => {\n",
              "        google.colab.notebook.generateWithVariable('df');\n",
              "      }\n",
              "      })();\n",
              "    </script>\n",
              "  </div>\n",
              "\n",
              "    </div>\n",
              "  </div>\n"
            ],
            "application/vnd.google.colaboratory.intrinsic+json": {
              "type": "dataframe",
              "variable_name": "df",
              "summary": "{\n  \"name\": \"df\",\n  \"rows\": 4,\n  \"fields\": [\n    {\n      \"column\": \"Title\",\n      \"properties\": {\n        \"dtype\": \"string\",\n        \"num_unique_values\": 4,\n        \"samples\": [\n          \"Impacts of Global Warming\",\n          \"Artificial Intelligence in Healthcare\",\n          \"Evolution of the Internet\"\n        ],\n        \"semantic_type\": \"\",\n        \"description\": \"\"\n      }\n    },\n    {\n      \"column\": \"Content\",\n      \"properties\": {\n        \"dtype\": \"string\",\n        \"num_unique_values\": 4,\n        \"samples\": [\n          \"Global warming represents a significant shift in Earth\\u2019s climate, largely driven by human activities like burning fossil fuels, which increase atmospheric greenhouse gases. This phenomenon leads to intensified weather patterns, including more frequent hurricanes, prolonged droughts, and devastating floods. Furthermore, it accelerates polar ice melting and rising sea levels, endangering coastal regions. The consequences extend to agriculture, water availability, and biodiversity, highlighting the urgent need for mitigation efforts.\",\n          \"Artificial Intelligence (AI) is transforming healthcare by enhancing diagnostic accuracy, personalizing treatments, and streamlining administrative tasks. AI algorithms are capable of analyzing vast datasets to identify patterns and predict patient outcomes, leading to earlier interventions and better care. Examples include AI-driven tools for medical imaging analysis and virtual assistants that improve patient interaction. This technology is not only improving efficiency but also expanding access to high-quality healthcare worldwide.\",\n          \"The internet's evolution began in the 1960s as a U.S. military project aimed at creating a resilient communication network. Its original purpose was to ensure functionality even in the face of partial infrastructure failures. Over time, this network grew into the modern internet, connecting billions of users globally via the Internet Protocol Suite (TCP/IP). A significant leap forward came in the early 1990s with the advent of the World Wide Web by Tim Berners-Lee, which revolutionized public access and usability.\"\n        ],\n        \"semantic_type\": \"\",\n        \"description\": \"\"\n      }\n    }\n  ]\n}"
            }
          },
          "metadata": {},
          "execution_count": 160
        }
      ]
    },
    {
      "cell_type": "markdown",
      "source": [
        "Now we will create the embeddings for each of the text and will add it to the data frame."
      ],
      "metadata": {
        "id": "JuPB41FEAMy-"
      }
    },
    {
      "cell_type": "code",
      "source": [
        "def embed_fn(title, Content):\n",
        "  return GenAi.embed_content(model=\"models/embedding-001\", content=title, task_type='retrieval_document', title=title)[\"embedding\"]\n",
        "df['Embedding'] = df.apply(lambda x: embed_fn(x['Title'], x['Content']), axis=1)\n",
        "df\n",
        "\n",
        "# response = GenAi.embed_content(model=\"models/text-embedding-004\", content=title, task_type='retrieval_document', title=title)[\"embedding\"]\n",
        "# print(response)"
      ],
      "metadata": {
        "colab": {
          "base_uri": "https://localhost:8080/",
          "height": 174
        },
        "id": "IxGqhP4BAUt6",
        "outputId": "e796fc70-32ef-418e-c5a9-23174ef157ab"
      },
      "execution_count": 161,
      "outputs": [
        {
          "output_type": "execute_result",
          "data": {
            "text/plain": [
              "                                   Title  \\\n",
              "0              Evolution of the Internet   \n",
              "1              Impacts of Global Warming   \n",
              "2               Advances in Green Energy   \n",
              "3  Artificial Intelligence in Healthcare   \n",
              "\n",
              "                                             Content  \\\n",
              "0  The internet's evolution began in the 1960s as...   \n",
              "1  Global warming represents a significant shift ...   \n",
              "2  Recent progress in green energy technologies u...   \n",
              "3  Artificial Intelligence (AI) is transforming h...   \n",
              "\n",
              "                                           Embedding  \n",
              "0  [0.03831492, -0.026607854, -0.043914452, -0.00...  \n",
              "1  [0.013367976, -0.04466875, -0.029548366, 0.016...  \n",
              "2  [0.006432495, 0.0057838606, -0.040501002, -0.0...  \n",
              "3  [0.02277285, -0.052651204, -0.038627297, -0.02...  "
            ],
            "text/html": [
              "\n",
              "  <div id=\"df-93d1fbc0-3454-48af-85aa-e1ccc8c06b81\" class=\"colab-df-container\">\n",
              "    <div>\n",
              "<style scoped>\n",
              "    .dataframe tbody tr th:only-of-type {\n",
              "        vertical-align: middle;\n",
              "    }\n",
              "\n",
              "    .dataframe tbody tr th {\n",
              "        vertical-align: top;\n",
              "    }\n",
              "\n",
              "    .dataframe thead th {\n",
              "        text-align: right;\n",
              "    }\n",
              "</style>\n",
              "<table border=\"1\" class=\"dataframe\">\n",
              "  <thead>\n",
              "    <tr style=\"text-align: right;\">\n",
              "      <th></th>\n",
              "      <th>Title</th>\n",
              "      <th>Content</th>\n",
              "      <th>Embedding</th>\n",
              "    </tr>\n",
              "  </thead>\n",
              "  <tbody>\n",
              "    <tr>\n",
              "      <th>0</th>\n",
              "      <td>Evolution of the Internet</td>\n",
              "      <td>The internet's evolution began in the 1960s as...</td>\n",
              "      <td>[0.03831492, -0.026607854, -0.043914452, -0.00...</td>\n",
              "    </tr>\n",
              "    <tr>\n",
              "      <th>1</th>\n",
              "      <td>Impacts of Global Warming</td>\n",
              "      <td>Global warming represents a significant shift ...</td>\n",
              "      <td>[0.013367976, -0.04466875, -0.029548366, 0.016...</td>\n",
              "    </tr>\n",
              "    <tr>\n",
              "      <th>2</th>\n",
              "      <td>Advances in Green Energy</td>\n",
              "      <td>Recent progress in green energy technologies u...</td>\n",
              "      <td>[0.006432495, 0.0057838606, -0.040501002, -0.0...</td>\n",
              "    </tr>\n",
              "    <tr>\n",
              "      <th>3</th>\n",
              "      <td>Artificial Intelligence in Healthcare</td>\n",
              "      <td>Artificial Intelligence (AI) is transforming h...</td>\n",
              "      <td>[0.02277285, -0.052651204, -0.038627297, -0.02...</td>\n",
              "    </tr>\n",
              "  </tbody>\n",
              "</table>\n",
              "</div>\n",
              "    <div class=\"colab-df-buttons\">\n",
              "\n",
              "  <div class=\"colab-df-container\">\n",
              "    <button class=\"colab-df-convert\" onclick=\"convertToInteractive('df-93d1fbc0-3454-48af-85aa-e1ccc8c06b81')\"\n",
              "            title=\"Convert this dataframe to an interactive table.\"\n",
              "            style=\"display:none;\">\n",
              "\n",
              "  <svg xmlns=\"http://www.w3.org/2000/svg\" height=\"24px\" viewBox=\"0 -960 960 960\">\n",
              "    <path d=\"M120-120v-720h720v720H120Zm60-500h600v-160H180v160Zm220 220h160v-160H400v160Zm0 220h160v-160H400v160ZM180-400h160v-160H180v160Zm440 0h160v-160H620v160ZM180-180h160v-160H180v160Zm440 0h160v-160H620v160Z\"/>\n",
              "  </svg>\n",
              "    </button>\n",
              "\n",
              "  <style>\n",
              "    .colab-df-container {\n",
              "      display:flex;\n",
              "      gap: 12px;\n",
              "    }\n",
              "\n",
              "    .colab-df-convert {\n",
              "      background-color: #E8F0FE;\n",
              "      border: none;\n",
              "      border-radius: 50%;\n",
              "      cursor: pointer;\n",
              "      display: none;\n",
              "      fill: #1967D2;\n",
              "      height: 32px;\n",
              "      padding: 0 0 0 0;\n",
              "      width: 32px;\n",
              "    }\n",
              "\n",
              "    .colab-df-convert:hover {\n",
              "      background-color: #E2EBFA;\n",
              "      box-shadow: 0px 1px 2px rgba(60, 64, 67, 0.3), 0px 1px 3px 1px rgba(60, 64, 67, 0.15);\n",
              "      fill: #174EA6;\n",
              "    }\n",
              "\n",
              "    .colab-df-buttons div {\n",
              "      margin-bottom: 4px;\n",
              "    }\n",
              "\n",
              "    [theme=dark] .colab-df-convert {\n",
              "      background-color: #3B4455;\n",
              "      fill: #D2E3FC;\n",
              "    }\n",
              "\n",
              "    [theme=dark] .colab-df-convert:hover {\n",
              "      background-color: #434B5C;\n",
              "      box-shadow: 0px 1px 3px 1px rgba(0, 0, 0, 0.15);\n",
              "      filter: drop-shadow(0px 1px 2px rgba(0, 0, 0, 0.3));\n",
              "      fill: #FFFFFF;\n",
              "    }\n",
              "  </style>\n",
              "\n",
              "    <script>\n",
              "      const buttonEl =\n",
              "        document.querySelector('#df-93d1fbc0-3454-48af-85aa-e1ccc8c06b81 button.colab-df-convert');\n",
              "      buttonEl.style.display =\n",
              "        google.colab.kernel.accessAllowed ? 'block' : 'none';\n",
              "\n",
              "      async function convertToInteractive(key) {\n",
              "        const element = document.querySelector('#df-93d1fbc0-3454-48af-85aa-e1ccc8c06b81');\n",
              "        const dataTable =\n",
              "          await google.colab.kernel.invokeFunction('convertToInteractive',\n",
              "                                                    [key], {});\n",
              "        if (!dataTable) return;\n",
              "\n",
              "        const docLinkHtml = 'Like what you see? Visit the ' +\n",
              "          '<a target=\"_blank\" href=https://colab.research.google.com/notebooks/data_table.ipynb>data table notebook</a>'\n",
              "          + ' to learn more about interactive tables.';\n",
              "        element.innerHTML = '';\n",
              "        dataTable['output_type'] = 'display_data';\n",
              "        await google.colab.output.renderOutput(dataTable, element);\n",
              "        const docLink = document.createElement('div');\n",
              "        docLink.innerHTML = docLinkHtml;\n",
              "        element.appendChild(docLink);\n",
              "      }\n",
              "    </script>\n",
              "  </div>\n",
              "\n",
              "\n",
              "<div id=\"df-66e85d2e-82e2-4602-8330-91ab1b1aea25\">\n",
              "  <button class=\"colab-df-quickchart\" onclick=\"quickchart('df-66e85d2e-82e2-4602-8330-91ab1b1aea25')\"\n",
              "            title=\"Suggest charts\"\n",
              "            style=\"display:none;\">\n",
              "\n",
              "<svg xmlns=\"http://www.w3.org/2000/svg\" height=\"24px\"viewBox=\"0 0 24 24\"\n",
              "     width=\"24px\">\n",
              "    <g>\n",
              "        <path d=\"M19 3H5c-1.1 0-2 .9-2 2v14c0 1.1.9 2 2 2h14c1.1 0 2-.9 2-2V5c0-1.1-.9-2-2-2zM9 17H7v-7h2v7zm4 0h-2V7h2v10zm4 0h-2v-4h2v4z\"/>\n",
              "    </g>\n",
              "</svg>\n",
              "  </button>\n",
              "\n",
              "<style>\n",
              "  .colab-df-quickchart {\n",
              "      --bg-color: #E8F0FE;\n",
              "      --fill-color: #1967D2;\n",
              "      --hover-bg-color: #E2EBFA;\n",
              "      --hover-fill-color: #174EA6;\n",
              "      --disabled-fill-color: #AAA;\n",
              "      --disabled-bg-color: #DDD;\n",
              "  }\n",
              "\n",
              "  [theme=dark] .colab-df-quickchart {\n",
              "      --bg-color: #3B4455;\n",
              "      --fill-color: #D2E3FC;\n",
              "      --hover-bg-color: #434B5C;\n",
              "      --hover-fill-color: #FFFFFF;\n",
              "      --disabled-bg-color: #3B4455;\n",
              "      --disabled-fill-color: #666;\n",
              "  }\n",
              "\n",
              "  .colab-df-quickchart {\n",
              "    background-color: var(--bg-color);\n",
              "    border: none;\n",
              "    border-radius: 50%;\n",
              "    cursor: pointer;\n",
              "    display: none;\n",
              "    fill: var(--fill-color);\n",
              "    height: 32px;\n",
              "    padding: 0;\n",
              "    width: 32px;\n",
              "  }\n",
              "\n",
              "  .colab-df-quickchart:hover {\n",
              "    background-color: var(--hover-bg-color);\n",
              "    box-shadow: 0 1px 2px rgba(60, 64, 67, 0.3), 0 1px 3px 1px rgba(60, 64, 67, 0.15);\n",
              "    fill: var(--button-hover-fill-color);\n",
              "  }\n",
              "\n",
              "  .colab-df-quickchart-complete:disabled,\n",
              "  .colab-df-quickchart-complete:disabled:hover {\n",
              "    background-color: var(--disabled-bg-color);\n",
              "    fill: var(--disabled-fill-color);\n",
              "    box-shadow: none;\n",
              "  }\n",
              "\n",
              "  .colab-df-spinner {\n",
              "    border: 2px solid var(--fill-color);\n",
              "    border-color: transparent;\n",
              "    border-bottom-color: var(--fill-color);\n",
              "    animation:\n",
              "      spin 1s steps(1) infinite;\n",
              "  }\n",
              "\n",
              "  @keyframes spin {\n",
              "    0% {\n",
              "      border-color: transparent;\n",
              "      border-bottom-color: var(--fill-color);\n",
              "      border-left-color: var(--fill-color);\n",
              "    }\n",
              "    20% {\n",
              "      border-color: transparent;\n",
              "      border-left-color: var(--fill-color);\n",
              "      border-top-color: var(--fill-color);\n",
              "    }\n",
              "    30% {\n",
              "      border-color: transparent;\n",
              "      border-left-color: var(--fill-color);\n",
              "      border-top-color: var(--fill-color);\n",
              "      border-right-color: var(--fill-color);\n",
              "    }\n",
              "    40% {\n",
              "      border-color: transparent;\n",
              "      border-right-color: var(--fill-color);\n",
              "      border-top-color: var(--fill-color);\n",
              "    }\n",
              "    60% {\n",
              "      border-color: transparent;\n",
              "      border-right-color: var(--fill-color);\n",
              "    }\n",
              "    80% {\n",
              "      border-color: transparent;\n",
              "      border-right-color: var(--fill-color);\n",
              "      border-bottom-color: var(--fill-color);\n",
              "    }\n",
              "    90% {\n",
              "      border-color: transparent;\n",
              "      border-bottom-color: var(--fill-color);\n",
              "    }\n",
              "  }\n",
              "</style>\n",
              "\n",
              "  <script>\n",
              "    async function quickchart(key) {\n",
              "      const quickchartButtonEl =\n",
              "        document.querySelector('#' + key + ' button');\n",
              "      quickchartButtonEl.disabled = true;  // To prevent multiple clicks.\n",
              "      quickchartButtonEl.classList.add('colab-df-spinner');\n",
              "      try {\n",
              "        const charts = await google.colab.kernel.invokeFunction(\n",
              "            'suggestCharts', [key], {});\n",
              "      } catch (error) {\n",
              "        console.error('Error during call to suggestCharts:', error);\n",
              "      }\n",
              "      quickchartButtonEl.classList.remove('colab-df-spinner');\n",
              "      quickchartButtonEl.classList.add('colab-df-quickchart-complete');\n",
              "    }\n",
              "    (() => {\n",
              "      let quickchartButtonEl =\n",
              "        document.querySelector('#df-66e85d2e-82e2-4602-8330-91ab1b1aea25 button');\n",
              "      quickchartButtonEl.style.display =\n",
              "        google.colab.kernel.accessAllowed ? 'block' : 'none';\n",
              "    })();\n",
              "  </script>\n",
              "</div>\n",
              "\n",
              "  <div id=\"id_ee77b210-84af-496d-8728-4d91a375670e\">\n",
              "    <style>\n",
              "      .colab-df-generate {\n",
              "        background-color: #E8F0FE;\n",
              "        border: none;\n",
              "        border-radius: 50%;\n",
              "        cursor: pointer;\n",
              "        display: none;\n",
              "        fill: #1967D2;\n",
              "        height: 32px;\n",
              "        padding: 0 0 0 0;\n",
              "        width: 32px;\n",
              "      }\n",
              "\n",
              "      .colab-df-generate:hover {\n",
              "        background-color: #E2EBFA;\n",
              "        box-shadow: 0px 1px 2px rgba(60, 64, 67, 0.3), 0px 1px 3px 1px rgba(60, 64, 67, 0.15);\n",
              "        fill: #174EA6;\n",
              "      }\n",
              "\n",
              "      [theme=dark] .colab-df-generate {\n",
              "        background-color: #3B4455;\n",
              "        fill: #D2E3FC;\n",
              "      }\n",
              "\n",
              "      [theme=dark] .colab-df-generate:hover {\n",
              "        background-color: #434B5C;\n",
              "        box-shadow: 0px 1px 3px 1px rgba(0, 0, 0, 0.15);\n",
              "        filter: drop-shadow(0px 1px 2px rgba(0, 0, 0, 0.3));\n",
              "        fill: #FFFFFF;\n",
              "      }\n",
              "    </style>\n",
              "    <button class=\"colab-df-generate\" onclick=\"generateWithVariable('df')\"\n",
              "            title=\"Generate code using this dataframe.\"\n",
              "            style=\"display:none;\">\n",
              "\n",
              "  <svg xmlns=\"http://www.w3.org/2000/svg\" height=\"24px\"viewBox=\"0 0 24 24\"\n",
              "       width=\"24px\">\n",
              "    <path d=\"M7,19H8.4L18.45,9,17,7.55,7,17.6ZM5,21V16.75L18.45,3.32a2,2,0,0,1,2.83,0l1.4,1.43a1.91,1.91,0,0,1,.58,1.4,1.91,1.91,0,0,1-.58,1.4L9.25,21ZM18.45,9,17,7.55Zm-12,3A5.31,5.31,0,0,0,4.9,8.1,5.31,5.31,0,0,0,1,6.5,5.31,5.31,0,0,0,4.9,4.9,5.31,5.31,0,0,0,6.5,1,5.31,5.31,0,0,0,8.1,4.9,5.31,5.31,0,0,0,12,6.5,5.46,5.46,0,0,0,6.5,12Z\"/>\n",
              "  </svg>\n",
              "    </button>\n",
              "    <script>\n",
              "      (() => {\n",
              "      const buttonEl =\n",
              "        document.querySelector('#id_ee77b210-84af-496d-8728-4d91a375670e button.colab-df-generate');\n",
              "      buttonEl.style.display =\n",
              "        google.colab.kernel.accessAllowed ? 'block' : 'none';\n",
              "\n",
              "      buttonEl.onclick = () => {\n",
              "        google.colab.notebook.generateWithVariable('df');\n",
              "      }\n",
              "      })();\n",
              "    </script>\n",
              "  </div>\n",
              "\n",
              "    </div>\n",
              "  </div>\n"
            ],
            "application/vnd.google.colaboratory.intrinsic+json": {
              "type": "dataframe",
              "variable_name": "df",
              "summary": "{\n  \"name\": \"df\",\n  \"rows\": 4,\n  \"fields\": [\n    {\n      \"column\": \"Title\",\n      \"properties\": {\n        \"dtype\": \"string\",\n        \"num_unique_values\": 4,\n        \"samples\": [\n          \"Impacts of Global Warming\",\n          \"Artificial Intelligence in Healthcare\",\n          \"Evolution of the Internet\"\n        ],\n        \"semantic_type\": \"\",\n        \"description\": \"\"\n      }\n    },\n    {\n      \"column\": \"Content\",\n      \"properties\": {\n        \"dtype\": \"string\",\n        \"num_unique_values\": 4,\n        \"samples\": [\n          \"Global warming represents a significant shift in Earth\\u2019s climate, largely driven by human activities like burning fossil fuels, which increase atmospheric greenhouse gases. This phenomenon leads to intensified weather patterns, including more frequent hurricanes, prolonged droughts, and devastating floods. Furthermore, it accelerates polar ice melting and rising sea levels, endangering coastal regions. The consequences extend to agriculture, water availability, and biodiversity, highlighting the urgent need for mitigation efforts.\",\n          \"Artificial Intelligence (AI) is transforming healthcare by enhancing diagnostic accuracy, personalizing treatments, and streamlining administrative tasks. AI algorithms are capable of analyzing vast datasets to identify patterns and predict patient outcomes, leading to earlier interventions and better care. Examples include AI-driven tools for medical imaging analysis and virtual assistants that improve patient interaction. This technology is not only improving efficiency but also expanding access to high-quality healthcare worldwide.\",\n          \"The internet's evolution began in the 1960s as a U.S. military project aimed at creating a resilient communication network. Its original purpose was to ensure functionality even in the face of partial infrastructure failures. Over time, this network grew into the modern internet, connecting billions of users globally via the Internet Protocol Suite (TCP/IP). A significant leap forward came in the early 1990s with the advent of the World Wide Web by Tim Berners-Lee, which revolutionized public access and usability.\"\n        ],\n        \"semantic_type\": \"\",\n        \"description\": \"\"\n      }\n    },\n    {\n      \"column\": \"Embedding\",\n      \"properties\": {\n        \"dtype\": \"object\",\n        \"semantic_type\": \"\",\n        \"description\": \"\"\n      }\n    }\n  ]\n}"
            }
          },
          "metadata": {},
          "execution_count": 161
        }
      ]
    },
    {
      "cell_type": "markdown",
      "source": [
        "## Document search with Q&A\n",
        "\n",
        "Now that the embeddings are generated, let's create a Q&A system to search these documents. You will ask a question about hyperparameter tuning, create an embedding of the question, and compare it against the collection of embeddings in the dataframe.\n",
        "\n",
        "The embedding of the question will be a vector (list of float values), which will be compared against the vector of the documents using the dot product. This vector returned from the API is already normalized. The dot product represents the similarity in direction between two vectors.\n",
        "\n",
        "The values of the dot product can range between -1 and 1, inclusive. If the dot product between two vectors is 1, then the vectors are in the same direction. If the dot product value is 0, then these vectors are orthogonal, or unrelated, to each other. Lastly, if the dot product is -1, then the vectors point in the opposite direction and are not similar to each other.\n",
        "\n",
        "Note, with the new embeddings model (`embedding-001`), specify the task type as `QUERY` for user query and `DOCUMENT` when embedding a document text.\n",
        "\n",
        "Task Type | Description\n",
        "---       | ---\n",
        "RETRIEVAL_QUERY\t| Specifies the given text is a query in a search/retrieval setting.\n",
        "RETRIEVAL_DOCUMENT | Specifies the given text is a document in a search/retrieval setting."
      ],
      "metadata": {
        "id": "e9XYTTNJI74o"
      }
    },
    {
      "cell_type": "code",
      "source": [
        "query = \"What were the original purposes of the internet's creation in the 1960s, and how has it evolved into its current form?\"\n",
        "model = 'models/embedding-001'\n",
        "\n",
        "request = GenAi.embed_content(model=model,\n",
        "                              content=query,\n",
        "                              task_type=\"retrieval_query\")\n",
        "print(request)"
      ],
      "metadata": {
        "colab": {
          "base_uri": "https://localhost:8080/",
          "height": 54
        },
        "id": "xY9vEvFmI8Z8",
        "outputId": "5c040657-7007-4cfa-f7cc-be596b567429"
      },
      "execution_count": 162,
      "outputs": [
        {
          "output_type": "stream",
          "name": "stdout",
          "text": [
            "{'embedding': [0.018128846, -0.053428844, -0.050558563, -0.01625502, 0.011635872, 0.031778377, 0.033031106, 0.013995166, 0.025032334, 0.062753275, 0.02026338, 0.03223248, 0.011596497, 0.003504628, 0.07471315, -0.03346641, 0.01432801, 0.025758905, -0.0044261436, -0.058921654, -0.037283167, -0.017816246, -0.00089843635, -0.020403309, -0.00055217504, -0.008701618, 0.0038953996, -0.041881185, -0.001249064, -0.029964661, -0.052667927, 0.066917844, -0.030525934, -0.025875662, -4.8984242e-05, -0.030156212, 0.02391402, 0.028336478, -0.06940351, 0.08582472, 0.006636826, -0.0046984158, -0.07840328, 0.036097683, -0.0041771303, -0.028193621, -0.020981707, 0.04013237, 0.043409973, -0.05023337, 0.004670513, 0.07562865, 0.040254246, -0.04026467, 0.013595716, -0.02741997, 0.02793851, -0.011890958, -0.016532876, -0.0068630525, 0.042864818, -0.049098097, 0.0026542256, -0.0005585496, 0.010150841, -0.02776014, -0.0067178863, 0.03834721, 0.032066744, -0.046376042, 0.0252808, 0.018324634, 0.059684195, -0.03059225, -0.04087163, -0.049301937, -0.0114436, 0.046637356, -0.006642625, -0.01820792, -0.040572487, -0.013405136, -0.008970282, 0.0055119446, -0.0654757, 0.07578079, -0.03330953, 0.0100066345, 0.0005886516, 0.051748645, 0.0022940799, -0.013113983, 0.027950494, -0.047533486, 0.035084084, 0.04327371, -0.05845087, -0.016061235, 0.0031654746, -0.043511245, -0.008785721, -0.023815215, -0.06358926, -0.014989966, 0.05188493, 0.043800022, -0.005441851, 0.055345792, -0.026082678, 0.02241729, -0.030411089, 0.010819607, -0.06645359, -0.008445195, -0.0030074283, -0.02555183, -0.01362528, 0.031671084, 0.0006108837, -0.024451153, 0.07843166, 0.021170057, 0.042233426, -0.012503133, 0.017480256, 0.0114782, 0.0038167126, -0.012865561, 0.01594611, 0.021671334, 0.014541793, -0.035832863, 0.049586885, 0.030828984, 0.040354997, 0.06565349, 0.05054556, 0.04076043, 0.037806433, 0.028353004, 0.009572818, -0.006334854, -0.0073956675, 0.02983175, -0.04528633, 0.008589814, -0.0377365, -0.07200802, 0.031020755, -0.05769675, 0.01023651, -0.019230269, -0.0822203, 0.014557672, 0.04875811, 0.02411294, 0.02253508, 0.080780365, -0.04730483, 0.008096679, 0.026705926, 0.026037175, 0.030280704, 0.023526238, -0.021196267, -0.020313771, 0.023204735, 0.028214725, 0.020470759, 0.025954673, -0.053515248, -0.024159858, -0.05768716, -0.028104125, -0.024445781, -0.07838828, -0.031120865, 0.034805678, -0.00087132334, 0.026024677, -0.0037797024, -0.015080369, -0.0048027555, -0.036284637, 0.031169567, -0.045494154, 0.046034735, -0.013443778, -0.041220155, 0.037139427, -0.006117228, -0.03863316, -0.020124385, 0.0125034265, -0.045173332, 0.07114354, 0.017485749, 0.060135588, 0.0015689809, -0.03994032, -0.009735575, 0.109500766, 0.02551753, -0.021767762, 0.028175032, 0.0049710367, 0.07380996, -0.008314791, -0.03868448, 0.035695743, -0.029020218, -0.017830523, 0.017776327, 0.056155484, 0.014201848, 0.06676173, 0.02002505, 0.03212762, -0.00022573907, -0.07061792, -0.011435637, -0.017326325, -0.0037279774, 0.045320716, -0.01384982, 0.041586056, -0.023902083, -0.009672124, -0.019103458, -0.051240098, 0.01230239, 0.016593743, 0.03396831, -0.014415139, 0.053879477, -0.007930802, 0.020966586, -0.054929167, 0.0058840457, 0.024166962, -0.031331588, -0.004779275, 0.097873226, 0.030779414, -0.07941888, -0.004352879, 0.00878149, -0.0017251951, -0.02738731, 0.06362026, 0.0002778823, -0.07731765, -0.0086668795, 0.029997928, -0.06149992, 0.044716623, -0.03602947, 0.0017080465, 0.014217997, 0.017758228, 0.05188481, 0.0031089478, 0.02056035, 0.004552728, -0.06030281, -6.55625e-05, -0.04239166, -0.015346534, 0.026458481, 0.039551474, -0.0022455095, -0.053599846, 0.044364892, 0.017703835, -0.008578847, 0.05960944, -0.006849115, -0.00077532744, -0.051074717, -0.008475442, 0.008746686, 0.009334314, -0.0076459534, 0.021285277, -0.04032067, -0.041212365, -0.06918405, -0.02659187, 0.024355661, -0.05399374, -0.05500962, -0.038867548, -0.0068507935, -0.015020505, -0.09421478, 0.01206424, 0.027464762, -0.005785668, 0.04506598, -0.008238537, -0.044641595, -0.031534433, -0.019358912, -0.070282705, -0.02689876, -0.0016430916, -0.009903083, -0.018362256, 0.03759101, -0.0032955115, 0.017044019, -0.054013353, 0.008310074, 0.010985413, 0.022240901, 0.04074697, 0.018407263, 0.032176632, -0.008876666, 0.00999316, -0.017756443, 0.024693502, -0.01548287, -0.028919516, 0.006316472, -0.014611501, -0.01818479, 0.03706519, 0.03415118, -0.024390059, -0.005909059, 0.0025449048, -0.027831756, -0.029456358, 0.0021277356, 0.008828423, -0.101004936, 0.031751513, 0.0076491805, -0.0012984902, 0.048380274, 0.047793083, -0.020514203, -0.016492272, 0.027858384, -0.021587415, -0.061521716, -0.04880915, 0.046437126, -0.03680923, -0.03603717, 0.026789809, -0.0029377714, 0.00063968543, 0.0028409, -0.027138747, 0.031214444, -0.029715626, 0.0770596, -0.060266186, -0.08323222, 0.029499521, -0.039831042, 0.002768214, 0.0118948445, 0.051244274, 0.0039389348, -0.023154523, 0.022598809, 0.012785326, 0.03237114, -0.039689705, 0.02073771, -0.011761027, 0.02215354, -0.056401033, -0.04970772, 0.011553346, 0.036952045, 0.007484878, -0.044504173, 0.008354156, 0.062516466, 0.03861277, 0.059463724, -0.0025164168, 0.0054100067, 0.040915933, -0.024449285, 0.023893144, 0.032783248, -0.023531081, 0.07872994, 0.0018479229, -0.0143312765, 0.008199987, -0.0098927915, -0.0048474497, -0.009067166, -0.016525177, -0.028250083, 0.0075082155, -0.041962344, -0.006944227, -0.015700001, -0.061450925, -0.015228343, 0.021992646, 0.00014264337, -0.003895284, 0.020144857, -0.014776629, -0.038136657, -0.050238427, -0.04414034, -0.05395284, 0.011632297, -0.042470384, -0.0005622014, 0.041922804, 0.025191767, -0.017442292, 0.011386617, 0.04454128, -0.0057512335, -0.01188979, -0.03269059, -0.03148435, -0.020677, -0.0015705794, 0.0132546285, -0.034418423, 0.045036547, -0.044645425, -0.0045868736, -0.061361562, -0.0070171743, 0.025526984, 0.00917709, -0.0017055394, -0.0049743685, 0.0017439994, 0.038446996, -0.028175429, -0.06228882, 0.010563485, -0.034240887, -0.041236885, 0.04932239, -0.065377735, -0.00096755853, -0.0820333, -0.04679601, -0.0052893185, -0.038624413, -0.09491722, 0.015625758, 0.045972668, -0.03466814, 0.011774591, -0.027396489, -0.015083538, -0.0005278724, -0.0909288, 0.034865316, 0.0011572447, 0.0128256725, -0.025374724, 0.039635666, 0.07087154, 0.024850704, -0.03425378, 0.01839965, 0.059059072, -0.0084150415, 0.003077952, -0.017227313, 0.027499162, -0.088335216, -0.00064995256, -0.035355937, 0.002939284, 0.0445658, -0.013743238, -0.01211976, -0.03426574, 0.045535397, -0.017208287, -0.006356385, -0.019988002, -0.011098306, -0.0029600349, -0.009393959, -0.03028117, -0.033430576, 0.03434129, 0.006127149, -0.018708415, 0.004182829, -0.007096981, -0.0018463999, -0.0057841963, -0.044938497, 0.02253239, 0.11618239, -0.049170323, 0.019075627, -0.024380574, 0.0050217058, -0.012138935, -0.023712836, 0.03991726, -0.009110851, -0.01978605, -0.00060108927, -0.014561696, -0.05703138, 0.009115157, 0.014654566, 0.009843038, 0.05160271, 0.019763414, -0.10620064, 0.00807363, 0.0054883473, -0.076317064, -0.0005021646, 0.08370953, -0.04156469, 0.046443902, 0.008203527, 0.058602743, -0.017528923, -0.014152992, -8.2655715e-06, -0.035942066, 0.028750157, 0.05429379, 0.01158535, -0.035978664, -0.01355758, 0.012778257, 0.0072333156, 0.054343693, 0.048185185, 0.035980243, 0.034782212, -0.0779226, 0.06442132, -0.035004582, -0.028300805, -0.032646414, 0.0070028636, -0.04950592, 0.08531029, 0.049843, -0.026592745, 0.059389334, -0.0049892487, 0.029866796, -0.02880564, 0.023678638, 0.002469505, 0.033339486, 0.030037833, 0.05052252, 0.0036607098, -0.05020249, 0.058032144, -0.06532002, -0.019702487, -0.014299422, 0.04852233, 0.03193272, 0.04986645, -0.020505331, -0.0081670135, -0.03740726, 0.013372539, -0.016419597, 0.008635689, -0.009394985, -0.032012448, 0.007299389, 0.0027975682, 0.028011175, 0.006667308, 0.0059888456, 0.07416768, 0.020157162, -0.004249556, 0.034412246, -0.0119687915, -0.011494301, 0.05975408, 0.049975943, 0.0035209453, 0.01850156, -0.031483248, -0.0017605458, 0.0098572, 0.0056616664, 0.05987226, -0.020797364, 0.008294116, -0.001035289, -0.0030474449, -0.03570295, -0.02086964, 0.027568262, -0.06085299, -0.004052097, -0.00770823, -0.013805919, -0.004777746, 0.011076336, 0.058200043, 0.0033841557, -0.010686197, -0.039735124, 0.016761618, -0.03708968, -0.022481121, 0.015388345, 0.05414305, -0.01843862, -0.029043926, -0.015864225, 0.0355292, 0.01420811, 0.03074836, 0.061845854, -0.013600372, -0.029484633, -0.05010003, -0.027586767, -0.041276872, 0.0037539909, -0.012141948, 0.041268654, -0.0678115, -0.01661449, 0.04938841, -0.026306663, 0.013637052, 0.09856927, 0.013213933, -0.07989988, -0.0039079012, 0.009544826, -0.020325856, -0.023454744, 0.027694276, -0.03760897, 0.023807477, 0.0028733495, -0.019180791, -0.035977967, -0.044395853, 0.012474843, -0.034481388, 0.009082165, -0.047700997, -0.018070268, 0.007999558, -0.045749027, -0.040112887, -0.055227198, -0.039742682, 0.0075071077, -0.049444042, 0.051871862, 0.022934001, 0.0014034727, 0.023604406, 0.028387066, -0.086479686, 0.043291546, 0.020892402, -0.05482951, -0.02161535, -0.032808255, 0.00041058948, 0.007223362, 0.0019862107, 0.004082478, -0.015667705, 0.022478074, -0.06754877, -0.037921045, 0.03776906, -0.018505234, -0.009893719, -0.009647034, -0.0035046244, 0.04395354, 0.02540718, -0.02026228, 0.029956238, 0.0040251235, -0.016618475, -0.024077887, 0.023847107, 0.014597467, 0.018538604, 0.015091098, -0.034996893, 0.050877802, 0.033654507, 0.047594517, -0.0070221364, 0.04221037, -0.0012397427, 0.036467213, 0.022057517, -0.026500007, -0.031439833, -0.026284812, -0.047931287, 0.029497903, 0.046702888, 0.054845206, 0.0027223818, -0.06448644, -0.061719898, 0.058792077, -0.098945126, 0.017073762, 0.013736938, -0.032944325, 0.008020476, -0.0059705977, -0.04318671, 0.032423563, 0.019202715, 0.053242996, -0.02035865, 0.049273096, -0.046253514, -0.08984786, 0.025943832, -0.008888573, -0.012856926, 0.044823334, 0.008861937, -0.027078774, -0.020808162, -0.02304166, 0.048564624, -0.029690482, -0.060183782, -0.039840657, 0.050461557, 0.063805595, 0.05064931, -0.024536664, 0.0036751379, 0.003913937, 0.0035563062, 0.025456343, -0.028761638, -0.015840251, -0.0064485255, 0.04015514, 0.055889428, 0.038652703, -0.034835115, 0.012303445]}\n"
          ]
        }
      ]
    },
    {
      "cell_type": "code",
      "source": [
        "# Use the find_best_passage function to calculate the dot products, and then sort the dataframe from the largest to smallest dot product value to retrieve the relevant passage out of the database.\n",
        "def find_best_passage(query, dataframe):\n",
        "\n",
        "  query_embedding = GenAi.embed_content(model=model,\n",
        "                                        content=query,\n",
        "                                        task_type=\"retrieval_query\")\n",
        "  dot_products = np.dot(np.stack(dataframe['Embedding']), query_embedding[\"embedding\"])\n",
        "  idx = np.argmax(dot_products)\n",
        "  return dataframe.iloc[idx]['Content'] # Return text from index with max value"
      ],
      "metadata": {
        "id": "NGgRa6o4JQhn"
      },
      "execution_count": 163,
      "outputs": []
    },
    {
      "cell_type": "code",
      "source": [
        "passage = find_best_passage(query, df)\n",
        "passage"
      ],
      "metadata": {
        "colab": {
          "base_uri": "https://localhost:8080/",
          "height": 87
        },
        "id": "w7I9dTGiJpGs",
        "outputId": "aaac4b9d-5a31-4d01-e3a9-8a4e7bb73ac7"
      },
      "execution_count": 164,
      "outputs": [
        {
          "output_type": "execute_result",
          "data": {
            "text/plain": [
              "\"The internet's evolution began in the 1960s as a U.S. military project aimed at creating a resilient communication network. Its original purpose was to ensure functionality even in the face of partial infrastructure failures. Over time, this network grew into the modern internet, connecting billions of users globally via the Internet Protocol Suite (TCP/IP). A significant leap forward came in the early 1990s with the advent of the World Wide Web by Tim Berners-Lee, which revolutionized public access and usability.\""
            ],
            "application/vnd.google.colaboratory.intrinsic+json": {
              "type": "string"
            }
          },
          "metadata": {},
          "execution_count": 164
        }
      ]
    },
    {
      "cell_type": "code",
      "source": [
        "query1 ='How is Artificial Intelligence transforming healthcare to improve diagnostics, treatments, and efficiency?'\n",
        "# request1 = GenAi.embed_content(model=model,\n",
        "#                               content=query1,\n",
        "#                               task_type=\"retrieval_query\")\n",
        "#print(request1)\n",
        "def find_best_passage1(query1, dataframe):\n",
        "  query_embedding = GenAi.embed_content(model=model,\n",
        "                                        content=query1,\n",
        "                                        task_type=\"retrieval_query\")\n",
        "  dot_products = np.dot(np.stack(dataframe['Embedding']), query_embedding[\"embedding\"])\n",
        "  idx = np.argmax(dot_products)\n",
        "  return dataframe.iloc[idx]['Content'] # Return text from index with max value\n",
        "\n",
        "passage1 = find_best_passage1(query1, df)\n",
        "passage1"
      ],
      "metadata": {
        "colab": {
          "base_uri": "https://localhost:8080/",
          "height": 87
        },
        "id": "LobpAll1Jr7d",
        "outputId": "836bd9e6-de50-4105-9eb3-f41982af4d1e"
      },
      "execution_count": 165,
      "outputs": [
        {
          "output_type": "execute_result",
          "data": {
            "text/plain": [
              "'Artificial Intelligence (AI) is transforming healthcare by enhancing diagnostic accuracy, personalizing treatments, and streamlining administrative tasks. AI algorithms are capable of analyzing vast datasets to identify patterns and predict patient outcomes, leading to earlier interventions and better care. Examples include AI-driven tools for medical imaging analysis and virtual assistants that improve patient interaction. This technology is not only improving efficiency but also expanding access to high-quality healthcare worldwide.'"
            ],
            "application/vnd.google.colaboratory.intrinsic+json": {
              "type": "string"
            }
          },
          "metadata": {},
          "execution_count": 165
        }
      ]
    },
    {
      "cell_type": "code",
      "source": [
        "query2 ='How global warming impacting the world?'\n",
        "# request2 = GenAi.embed_content(model=model,\n",
        "#                               content=query1,\n",
        "#                               task_type=\"retrieval_query\")\n",
        "# #print(request1)\n",
        "def find_best_passage2(query2, dataframe):\n",
        "  query_embedding = GenAi.embed_content(model=model,\n",
        "                                        content=query2,\n",
        "                                        task_type=\"retrieval_query\")\n",
        "  dot_products = np.dot(np.stack(dataframe['Embedding']), query_embedding[\"embedding\"])\n",
        "  idx = np.argmax(dot_products)\n",
        "  return dataframe.iloc[idx]['Content'] # Return text from index with max value\n",
        "\n",
        "passage2 = find_best_passage2(query2, df)\n",
        "passage2"
      ],
      "metadata": {
        "colab": {
          "base_uri": "https://localhost:8080/",
          "height": 87
        },
        "id": "wTs5hI7pOBwW",
        "outputId": "fd93c8ea-8083-460a-f0d0-18e4599e145e"
      },
      "execution_count": 166,
      "outputs": [
        {
          "output_type": "execute_result",
          "data": {
            "text/plain": [
              "'Global warming represents a significant shift in Earth’s climate, largely driven by human activities like burning fossil fuels, which increase atmospheric greenhouse gases. This phenomenon leads to intensified weather patterns, including more frequent hurricanes, prolonged droughts, and devastating floods. Furthermore, it accelerates polar ice melting and rising sea levels, endangering coastal regions. The consequences extend to agriculture, water availability, and biodiversity, highlighting the urgent need for mitigation efforts.'"
            ],
            "application/vnd.google.colaboratory.intrinsic+json": {
              "type": "string"
            }
          },
          "metadata": {},
          "execution_count": 166
        }
      ]
    }
  ]
}